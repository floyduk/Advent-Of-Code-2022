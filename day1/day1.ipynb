{
 "cells": [
  {
   "cell_type": "markdown",
   "metadata": {},
   "source": [
    "# Initialize our variables"
   ]
  },
  {
   "cell_type": "code",
   "execution_count": 1,
   "metadata": {},
   "outputs": [],
   "source": [
    "import fileinput\n",
    "\n",
    "# elves_calories is an array of the total calories carried by each elf\n",
    "elves_calories = []\n",
    "\n",
    "# The current running total of calories carried by an elf\n",
    "this_elf_calories = 0"
   ]
  },
  {
   "cell_type": "code",
   "execution_count": 2,
   "metadata": {},
   "outputs": [],
   "source": [
    "input_file = \"sample.txt\""
   ]
  },
  {
   "cell_type": "code",
   "execution_count": 7,
   "metadata": {},
   "outputs": [],
   "source": [
    "input_file = \"input.txt\""
   ]
  },
  {
   "cell_type": "markdown",
   "metadata": {},
   "source": [
    "# Main code loop"
   ]
  },
  {
   "cell_type": "code",
   "execution_count": 9,
   "metadata": {},
   "outputs": [],
   "source": [
    "# Iterate the list of calories adding numbers to this_elf_calories until we find a blank line\n",
    "for line in fileinput.input(files=input_file):\n",
    "    line = line.rstrip()\n",
    "    if line == \"\":\n",
    "        # When we find a blank line we add the current running total to elves_calories array and start a new running total\n",
    "        elves_calories.append(this_elf_calories)\n",
    "        this_elf_calories = 0\n",
    "    else:\n",
    "        this_elf_calories += int(line)\n",
    "\n",
    "# When we exit the loop we've still not added the last elf's total to the list. So do that now.\n",
    "elves_calories.append(this_elf_calories)"
   ]
  },
  {
   "cell_type": "markdown",
   "metadata": {},
   "source": [
    "### Part 1 solution"
   ]
  },
  {
   "cell_type": "code",
   "execution_count": 10,
   "metadata": {},
   "outputs": [
    {
     "name": "stdout",
     "output_type": "stream",
     "text": [
      "108957\n"
     ]
    }
   ],
   "source": [
    "# Print the largest element in the elves_calories list\n",
    "print(max(elves_calories))"
   ]
  },
  {
   "cell_type": "markdown",
   "metadata": {},
   "source": [
    "### Part 2 solution"
   ]
  },
  {
   "cell_type": "code",
   "execution_count": 11,
   "metadata": {},
   "outputs": [
    {
     "name": "stdout",
     "output_type": "stream",
     "text": [
      "246507\n"
     ]
    }
   ],
   "source": [
    "# Sort the list of elves_calories and add th                                                                                                                                                                e top 3 numbers to get the answer\n",
    "elves_calories.sort(reverse=True)\n",
    "print(sum(elves_calories[0:3]))"
   ]
  }
 ],
 "metadata": {
  "kernelspec": {
   "display_name": "Python 3.10.8 64-bit (microsoft store)",
   "language": "python",
   "name": "python3"
  },
  "language_info": {
   "codemirror_mode": {
    "name": "ipython",
    "version": 3
   },
   "file_extension": ".py",
   "mimetype": "text/x-python",
   "name": "python",
   "nbconvert_exporter": "python",
   "pygments_lexer": "ipython3",
   "version": "3.10.8"
  },
  "orig_nbformat": 4,
  "vscode": {
   "interpreter": {
    "hash": "686b2fefa4c7b5730b0a7892a6b8d53a54c54858883d584ccf236cda68d04de0"
   }
  }
 },
 "nbformat": 4,
 "nbformat_minor": 2
}
