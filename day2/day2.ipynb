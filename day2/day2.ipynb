{
 "cells": [
  {
   "cell_type": "markdown",
   "metadata": {},
   "source": [
    "# Day 2 - Rock, Paper, Scissors"
   ]
  },
  {
   "cell_type": "markdown",
   "metadata": {},
   "source": [
    "## Part 1"
   ]
  },
  {
   "cell_type": "markdown",
   "metadata": {},
   "source": [
    "This is a question comprehension challenge. The actual code needed is very very simple. But the challenge comes from turning the very wordy question into a problem that you can comprehend and then turning that into a solution.\n",
    "\n",
    "So for part 1 we are shown a sample with 3 lines and the score for each line is explained:\n",
    "\n",
    "\"A Y\" means Rock, Paper which gives 8 points - 2 for the paper and 6 for the win.  \n",
    "\"B X\" means Paper, Rock, which gives 1 point - 1 for the rock and 0 for the loss.  \n",
    "\"C Z\" means Scissors, Scissors which gives 6 points - 3 for the scissors and 3 for the draw.  \n",
    "\n",
    "Total points for this sample is 15 but what it also shows us is that if the sample looked like this:\n",
    "\n",
    "A Y  \n",
    "A Y  \n",
    "A Y  \n",
    "\n",
    "then each of those lines would be worth 8 points. Hence \"A Y\" is always worth 8 points. And \"B X\" is always worth 1 point, and \"C Z\" is always worth 6 points.\n",
    "\n",
    "All we need to do is calulate the points value of all 9 combinations of A,B,C and X,Y,Z and make a lookup table.\n",
    "\n",
    "Here it is:"
   ]
  },
  {
   "cell_type": "code",
   "execution_count": 3,
   "metadata": {},
   "outputs": [],
   "source": [
    "lookup = {\n",
    "    'A X': 4,   # 1+3\n",
    "    'A Y': 8,   # 2+6\n",
    "    'A Z': 3,   # 3+0\n",
    "    'B X': 1,   # 1+0\n",
    "    'B Y': 5,   # 2+3\n",
    "    'B Z': 9,   # 3+6\n",
    "    'C X': 7,   # 1+6\n",
    "    'C Y': 2,   # 2+0\n",
    "    'C Z': 6,   # 3+3\n",
    "}"
   ]
  },
  {
   "cell_type": "markdown",
   "metadata": {},
   "source": [
    "The rest is a simple case of reading the file"
   ]
  },
  {
   "cell_type": "markdown",
   "metadata": {},
   "source": []
  },
  {
   "cell_type": "code",
   "execution_count": 4,
   "metadata": {},
   "outputs": [],
   "source": [
    "input_file = open(\"input.txt\", \"r\")\n",
    "input_lines = input_file.read().split(\"\\n\")"
   ]
  },
  {
   "cell_type": "markdown",
   "metadata": {},
   "source": [
    "And then iterating the lines, using them as a lookup into the table above"
   ]
  },
  {
   "cell_type": "code",
   "execution_count": 8,
   "metadata": {},
   "outputs": [],
   "source": [
    "# Total score is the running total score. Duh.\n",
    "total_score = 0\n",
    "\n",
    "# Iterate the lines in the file calculating the score as we go\n",
    "for line in input_lines:\n",
    "    total_score += lookup[line]"
   ]
  },
  {
   "cell_type": "markdown",
   "metadata": {},
   "source": [
    "And then print the result"
   ]
  },
  {
   "cell_type": "code",
   "execution_count": 9,
   "metadata": {},
   "outputs": [
    {
     "name": "stdout",
     "output_type": "stream",
     "text": [
      "14416\n"
     ]
    }
   ],
   "source": [
    "# Print the result\n",
    "print(total_score)"
   ]
  },
  {
   "cell_type": "markdown",
   "metadata": {},
   "source": [
    "## Part 2"
   ]
  },
  {
   "cell_type": "markdown",
   "metadata": {},
   "source": [
    "Part two is almost exactly the same as part 1 but with another little thinky bit. The code is near identical.\n",
    "\n",
    "We learn that X, Y, Z mean lose, draw, win and so we have to figure out what a lose would be against A(rock), B(paper), C(scissors) and the figure out what a draw would be. And then figure out what a win would be.\n",
    "\n",
    "The lookup table still only has 9 entries. The input is still combinations of A,B,C and X,Y,Z. All that changes is the scores for those combinations. \n",
    "\n",
    "Here's the new table:"
   ]
  },
  {
   "cell_type": "code",
   "execution_count": 7,
   "metadata": {},
   "outputs": [],
   "source": [
    "lookup = {\n",
    "    'A X': 3,\n",
    "    'A Y': 4,\n",
    "    'A Z': 8,\n",
    "    'B X': 1,\n",
    "    'B Y': 5,\n",
    "    'B Z': 9,\n",
    "    'C X': 2,\n",
    "    'C Y': 6,\n",
    "    'C Z': 7,\n",
    "}"
   ]
  }
 ],
 "metadata": {
  "kernelspec": {
   "display_name": "Python 3.10.8 64-bit (microsoft store)",
   "language": "python",
   "name": "python3"
  },
  "language_info": {
   "codemirror_mode": {
    "name": "ipython",
    "version": 3
   },
   "file_extension": ".py",
   "mimetype": "text/x-python",
   "name": "python",
   "nbconvert_exporter": "python",
   "pygments_lexer": "ipython3",
   "version": "3.10.8"
  },
  "orig_nbformat": 4,
  "vscode": {
   "interpreter": {
    "hash": "686b2fefa4c7b5730b0a7892a6b8d53a54c54858883d584ccf236cda68d04de0"
   }
  }
 },
 "nbformat": 4,
 "nbformat_minor": 2
}
